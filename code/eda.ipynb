{
 "cells": [
  {
   "cell_type": "markdown",
   "id": "2404c16d",
   "metadata": {},
   "source": [
    "---\n",
    "title: \"EDA\"\n",
    "---"
   ]
  },
  {
   "cell_type": "code",
   "execution_count": null,
   "id": "8377b2db",
   "metadata": {},
   "outputs": [],
   "source": []
  }
 ],
 "metadata": {
  "language_info": {
   "name": "python"
  }
 },
 "nbformat": 4,
 "nbformat_minor": 5
}
