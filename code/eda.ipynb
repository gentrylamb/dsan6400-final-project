{
 "cells": [
  {
   "cell_type": "markdown",
   "id": "2404c16d",
   "metadata": {},
   "source": [
    "---\n",
    "title: \"EDA\"\n",
    "---"
   ]
  },
  {
   "cell_type": "code",
   "execution_count": null,
   "id": "8377b2db",
   "metadata": {},
   "outputs": [],
   "source": [
    "import pandas as pd\n",
    "import ast\n",
    "import networkx as nx\n",
    "from itertools import combinations\n",
    "from collections import defaultdict\n"
   ]
  },
  {
   "cell_type": "code",
   "execution_count": null,
   "id": "03b4ecc7",
   "metadata": {},
   "outputs": [],
   "source": [
    "# Load your CSV\n",
    "df = pd.read_csv(\"../data/raw/movies.csv\")\n",
    "\n",
    "\n",
    "# Parse actors and directors into lists\n",
    "df[\"Director\"] = df[\"Director\"].apply(lambda x: [d.strip() for d in x.split(\",\")] if isinstance(x, str) else [])\n",
    "\n"
   ]
  },
  {
   "cell_type": "code",
   "execution_count": null,
   "id": "e1bc7598",
   "metadata": {},
   "outputs": [],
   "source": [
    "collaborator_to_movies = defaultdict(set)\n",
    "\n",
    "for idx, row in df.iterrows():\n",
    "    movie_id = row[\"IMDB_ID\"]\n",
    "    \n",
    "    for actor in row[\"Actors\"]:\n",
    "        collaborator_to_movies[actor.strip()].add(movie_id)\n",
    "\n",
    "    for director in row[\"Director\"]:\n",
    "        collaborator_to_movies[director.strip()].add(movie_id)"
   ]
  },
  {
   "cell_type": "code",
   "execution_count": null,
   "id": "796d5832",
   "metadata": {},
   "outputs": [],
   "source": [
    "G = nx.Graph()\n",
    "\n",
    "# Add movie nodes with metadata\n",
    "for idx, row in df.iterrows():\n",
    "    G.add_node(row[\"IMDB_ID\"], title = row[\"Title\"], year = row[\"Year\"])\n",
    "\n",
    "# Create edges between movies that share collaborators\n",
    "for collaborator, movies in collaborator_to_movies.items():\n",
    "    movie_pairs = combinations(movies, 2)\n",
    "    for movie_1, movie_2 in movie_pairs:\n",
    "        if G.has_edge(movie_1, movie_2):\n",
    "            # Add to existing set of collaborators\n",
    "            G[movie_1][movie_2][\"collaborators\"].add(collaborator)\n",
    "        else:\n",
    "            G.add_edge(movie_1, movie_2, collaborators = {collaborator})\n"
   ]
  }
 ],
 "metadata": {
  "language_info": {
   "name": "python"
  }
 },
 "nbformat": 4,
 "nbformat_minor": 5
}
