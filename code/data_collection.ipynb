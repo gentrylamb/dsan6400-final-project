{
 "cells": [
  {
   "cell_type": "markdown",
   "id": "b60d6ae4",
   "metadata": {},
   "source": [
    "---\n",
    "title: \"Data Collection\"\n",
    "---"
   ]
  },
  {
   "cell_type": "markdown",
   "id": "b108fceb",
   "metadata": {},
   "source": [
    "## Import Required Libraries"
   ]
  },
  {
   "cell_type": "code",
   "execution_count": null,
   "id": "14f9431f",
   "metadata": {},
   "outputs": [],
   "source": [
    "from tmdbv3api import TMDb, Genre, Discover, Movie\n",
    "import json\n",
    "import requests\n",
    "import pandas as pd\n",
    "import time\n",
    "\n",
    "pd.set_option(\"display.max_columns\", None)"
   ]
  },
  {
   "cell_type": "markdown",
   "id": "0ef3bde4",
   "metadata": {},
   "source": [
    "## API Keys"
   ]
  },
  {
   "cell_type": "code",
   "execution_count": null,
   "id": "d9f90b51",
   "metadata": {},
   "outputs": [],
   "source": [
    "# Obtain API Key for TMDB\n",
    "with open(\"../../api-keys.json\") as f:\n",
    "    keys = json.load(f)\n",
    "\n",
    "# API Keys\n",
    "API_KEY_TMDB = keys[\"TMDB\"]\n",
    "API_KEY_OMDB = keys[\"OMDB\"]"
   ]
  },
  {
   "cell_type": "markdown",
   "id": "82a831a4",
   "metadata": {},
   "source": [
    "## TMDB"
   ]
  },
  {
   "cell_type": "code",
   "execution_count": null,
   "id": "4b4afbcd",
   "metadata": {},
   "outputs": [],
   "source": [
    "# Call the TMDB API\n",
    "tmdb = TMDb()        \n",
    "tmdb.api_key = API_KEY_TMDB\n",
    "\n",
    "movie = Movie()\n",
    "genre = Genre()\n",
    "discover = Discover()\n",
    "\n",
    "# Store all available genres in a variable\n",
    "all_genres = genre.movie_list()\n",
    "\n",
    "# Establish a page limit to search\n",
    "page_limit = 20\n",
    "\n",
    "# Create a blank movie list\n",
    "movie_list = []\n",
    "\n",
    "# Loop through all genres\n",
    "for g in all_genres:\n",
    "    genre_id = g[\"id\"]\n",
    "    genre_name = g[\"name\"]\n",
    "    \n",
    "    # Loop through the amount of pages previously established\n",
    "    for page in range(1, page_limit + 1):\n",
    "        movies = discover.discover_movies({\n",
    "            \"with_genres\": genre_id,\n",
    "            \"sort_by\": \"revenue.desc\",\n",
    "            \"page\": page,\n",
    "            \"include_adult\": False\n",
    "        })\n",
    "        \n",
    "        if not movies:\n",
    "            break\n",
    "        \n",
    "        # Pull movies from each page and up to 20 pages within each genre\n",
    "        for movie in movies:\n",
    "\n",
    "            TMDB_url = f\"https://api.themoviedb.org/3/movie/{movie.id}?api_key={API_KEY_TMDB}\"\n",
    "\n",
    "            age_rating_url = f\"https://api.themoviedb.org/3/movie/{movie.id}/release_dates?api_key={API_KEY_TMDB}\"\n",
    "\n",
    "            keywords_url = f\"https://api.themoviedb.org/3/movie/{movie.id}/keywords?api_key={API_KEY_TMDB}\"\n",
    "\n",
    "            # Create requests for general movie details, as well as the fields that aren't pulled with the regular url\n",
    "            movie_details = requests.get(TMDB_url).json()\n",
    "            age_rating_response = requests.get(age_rating_url).json()\n",
    "            keywords_response = requests.get(keywords_url).json()\n",
    "\n",
    "            # Loop through age ratings for countries to determine if there is a US rating\n",
    "            age_rating = None\n",
    "            for country in age_rating_response.get(\"results\", []):\n",
    "                if country[\"iso_3166_1\"] == \"US\":  # Change to desired country code if needed\n",
    "                    age_rating = country[\"release_dates\"][0].get(\"certification\", None)\n",
    "                    break\n",
    "\n",
    "\n",
    "            # Extract keywords from the response\n",
    "            keywords = [kw[\"name\"] for kw in keywords_response.get(\"keywords\", [])]\n",
    "\n",
    "            # Put data for each movie in a dictionary\n",
    "            movie_data = {\n",
    "                \"IMDB_ID\": movie_details.get(\"imdb_id\", None),\n",
    "                \"Title\": movie.title,\n",
    "                \"Release_Date\": movie_details.get(\"release_date\", None),\n",
    "                \"Age_Rating\": age_rating,\n",
    "                \"Overview\": movie.overview,\n",
    "                \"Popularity\": movie.popularity,\n",
    "                \"Genre\": genre_name,\n",
    "                \"TMDB_Rating\": movie.vote_average,\n",
    "                \"Budget\": movie_details.get(\"budget\", None),\n",
    "                \"Revenue\": movie_details.get(\"revenue\", None),\n",
    "                \"Keywords\": keywords\n",
    "            }\n",
    "\n",
    "            # Append the movie data to the movies list\n",
    "            movie_list.append(movie_data)\n",
    "\n",
    "# Create a movie df from the movie list\n",
    "columns = [\"IMDB_ID\", \n",
    "           \"Title\", \n",
    "           \"Release_Date\", \n",
    "           \"Age_Rating\", \n",
    "           \"Overview\", \n",
    "           \"Popularity\", \n",
    "           \"Genre\", \n",
    "           \"TMDB_Rating\", \n",
    "           \"Budget\", \n",
    "           \"Revenue\", \n",
    "           \"Keywords\"]\n",
    "\n",
    "TMDB_movies_df = pd.DataFrame(movie_list, columns = columns)"
   ]
  },
  {
   "cell_type": "code",
   "execution_count": null,
   "id": "a61de447",
   "metadata": {},
   "outputs": [],
   "source": [
    "print(f\"Total Movie Count: {len(TMDB_movies_df)}\\n\")\n",
    "\n",
    "print(f\"Raw Datatset Shape: {TMDB_movies_df.shape}\\n\")\n",
    "\n",
    "TMDB_movies_df.head(5)"
   ]
  },
  {
   "cell_type": "markdown",
   "id": "ed5fbe34",
   "metadata": {},
   "source": [
    "## OMDB"
   ]
  },
  {
   "cell_type": "code",
   "execution_count": null,
   "id": "d1a7abcb",
   "metadata": {},
   "outputs": [],
   "source": [
    "# Request the additional data from OMDB API\n",
    "def additional_omdb_data(parameter):\n",
    "    url = f\"http://www.omdbapi.com/?apikey={API_KEY_OMDB}&i={parameter}\"\n",
    "\n",
    "    response = requests.get(url)\n",
    "    data = response.json()\n",
    "\n",
    "    if data.get(\"Response\") == \"True\":\n",
    "\n",
    "        ratings = data.get(\"Ratings\", [])\n",
    "        rotten_tomatoes_score = next((r[\"Value\"] for r in ratings if r[\"Source\"] == \"Rotten Tomatoes\"), None)\n",
    "\n",
    "        return {\n",
    "            \"Year\": data.get(\"Year\", None),\n",
    "            \"Director\": data.get(\"Director\", None),\n",
    "            \"Actors\": data.get(\"Actors\", None),\n",
    "            \"Runtime\": data.get(\"Runtime\", None),\n",
    "            \"Awards\": data.get(\"Awards\", None),\n",
    "            \"Metascore_Rating\": data.get(\"Metascore\", None),\n",
    "            \"IMDB_Rating\": data.get(\"imdbRating\", None),\n",
    "            \"Rotten_Tomatoes_Rating\": rotten_tomatoes_score\n",
    "        }\n",
    "    \n",
    "    else:\n",
    "        return {\"Year\": None, \n",
    "                \"Director\": None, \n",
    "                \"Actors\": None, \n",
    "                \"Runtime\": None, \n",
    "                \"Awards\": None, \n",
    "                \"Metascore_Rating\": None, \n",
    "                \"IMDB_Rating\": None, \n",
    "                \"Rotten_Tomatoes_Rating\": None}\n",
    "\n",
    "\n",
    "# Variable to keep track of the df length\n",
    "df_length = len(TMDB_movies_df)\n",
    "\n",
    "# Loop counter to keep track of how far along the for loop is\n",
    "loop_counter = 1\n",
    "\n",
    "# Empty list to hold the newly obtained data\n",
    "additional_data = []\n",
    "\n",
    "# Loop through all titles of the TMDB_movies_df to add OMDB data\n",
    "for id in TMDB_movies_df[\"IMDB_ID\"]:\n",
    "    # Append new data into the list using the previously created function for OMDB\n",
    "    additional_data.append(additional_omdb_data(id))\n",
    "\n",
    "    # Print percentage complete\n",
    "    percent_complete = loop_counter / df_length\n",
    "    if loop_counter % (df_length // 10) == 0:\n",
    "        print(f\"Percent Complete: {percent_complete * 100}%\")\n",
    "\n",
    "    loop_counter += 1\n",
    "\n",
    "\n",
    "# Convert the additional data to a DataFrame\n",
    "additional_df = pd.DataFrame(additional_data)\n",
    "\n",
    "# Append the new data to the existing DataFrame\n",
    "movies_df = pd.concat([TMDB_movies_df, additional_df], axis = 1)\n",
    "\n",
    "movies_df.to_csv(\"../data/raw/movies.csv\", index = False)\n"
   ]
  },
  {
   "cell_type": "markdown",
   "id": "3acccee3",
   "metadata": {},
   "source": [
    "## Preview Full Dataset"
   ]
  },
  {
   "cell_type": "code",
   "execution_count": null,
   "id": "a3822939",
   "metadata": {},
   "outputs": [],
   "source": [
    "print(f\"Total Movie Count: {len(movies_df)}\\n\")\n",
    "\n",
    "print(f\"Raw Datatset Shape: {movies_df.shape}\\n\")\n",
    "\n",
    "print(f\"{movies_df[\"Genre\"].value_counts()}\\n\")\n",
    "\n",
    "movies_df.head(5)"
   ]
  }
 ],
 "metadata": {
  "kernelspec": {
   "display_name": "base",
   "language": "python",
   "name": "python3"
  },
  "language_info": {
   "codemirror_mode": {
    "name": "ipython",
    "version": 3
   },
   "file_extension": ".py",
   "mimetype": "text/x-python",
   "name": "python",
   "nbconvert_exporter": "python",
   "pygments_lexer": "ipython3",
   "version": "3.11.11"
  }
 },
 "nbformat": 4,
 "nbformat_minor": 5
}
